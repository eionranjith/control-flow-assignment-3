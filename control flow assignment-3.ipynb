{
 "cells": [
  {
   "cell_type": "code",
   "execution_count": 1,
   "id": "3ac076df-b0a5-4e35-a04a-b5ef520ab35e",
   "metadata": {},
   "outputs": [
    {
     "name": "stdout",
     "output_type": "stream",
     "text": [
      "Enter a number:  7\n"
     ]
    },
    {
     "name": "stdout",
     "output_type": "stream",
     "text": [
      "Positive number\n"
     ]
    }
   ],
   "source": [
    "#1. Write a Python program to check if a given number is positive or negative?\n",
    "num = int(input(\"Enter a number: \"))\n",
    "if num > 0:\n",
    "    print(\"Positive number\")\n",
    "elif num == 0:\n",
    "    print(\"Zero\")\n",
    "else:\n",
    "    print(\"Negative number\")"
   ]
  },
  {
   "cell_type": "code",
   "execution_count": 2,
   "id": "ac12c11a-53bc-4e3b-9555-db6f20f3d5a6",
   "metadata": {},
   "outputs": [
    {
     "name": "stdout",
     "output_type": "stream",
     "text": [
      "Enter age :  23\n"
     ]
    },
    {
     "name": "stdout",
     "output_type": "stream",
     "text": [
      "Eligible for Voting! \n"
     ]
    }
   ],
   "source": [
    "#2. Create a program that determines if a person is eligible to vote based on their age.?\n",
    "age = int(input(\"Enter age : \")) \n",
    "if age >= 18: \n",
    "    print(\"Eligible for Voting! \")\n",
    "else:\n",
    "        \n",
    "    print(\"Not Eligible for Voting! \")"
   ]
  },
  {
   "cell_type": "code",
   "execution_count": 3,
   "id": "2064d03d-ec75-4a6c-9adb-6e110df7ba6c",
   "metadata": {},
   "outputs": [
    {
     "name": "stdout",
     "output_type": "stream",
     "text": [
      "4\n"
     ]
    }
   ],
   "source": [
    "#3. Develop a program to find the maximum of two numbers using if-else statements.?\n",
    "def maximum(a, b):\n",
    "     \n",
    "    if a >= b:\n",
    "        return a\n",
    "    else:\n",
    "        return b\n",
    "a = 2\n",
    "b = 4\n",
    "print(maximum(a, b))"
   ]
  },
  {
   "cell_type": "code",
   "execution_count": 4,
   "id": "0e89eaff-4237-4d1a-be8c-db0bff71b97e",
   "metadata": {},
   "outputs": [
    {
     "name": "stdout",
     "output_type": "stream",
     "text": [
      "Enter the number:  2002\n"
     ]
    },
    {
     "name": "stdout",
     "output_type": "stream",
     "text": [
      "Given Year is not a leap Year\n"
     ]
    }
   ],
   "source": [
    "#4. Write a Python script to classify a given year as a leap year or not.?\n",
    "def CheckLeap(Year):   \n",
    "    if((Year % 400 == 0) or  \n",
    "     (Year % 100 != 0) and  \n",
    "     (Year % 4 == 0)):   \n",
    "        print(\"Given Year is a leap Year\");  \n",
    "    else:  \n",
    "        print (\"Given Year is not a leap Year\")  \n",
    "\n",
    "Year = int(input(\"Enter the number: \"))  \n",
    "CheckLeap(Year) "
   ]
  },
  {
   "cell_type": "code",
   "execution_count": 5,
   "id": "0fcf1b06-a080-41f7-a998-f372f80ff875",
   "metadata": {},
   "outputs": [
    {
     "name": "stdout",
     "output_type": "stream",
     "text": [
      "Enter a character:  z\n"
     ]
    },
    {
     "name": "stdout",
     "output_type": "stream",
     "text": [
      "z is a Consonant\n"
     ]
    }
   ],
   "source": [
    "#5) Create a program that checks whether a character is a vowel or a consonant?\n",
    "ch = input(\"Enter a character: \")\n",
    "\n",
    "if(ch=='A' or ch=='a' or ch=='E' or ch =='e' or ch=='I'\n",
    " or ch=='i' or ch=='O' or ch=='o' or ch=='U' or ch=='u'):\n",
    "    print(ch, \"is a Vowel\")\n",
    "else:\n",
    "    print(ch, \"is a Consonant\")"
   ]
  },
  {
   "cell_type": "code",
   "execution_count": 6,
   "id": "9f2be863-c7ce-4197-859c-296885d0af84",
   "metadata": {},
   "outputs": [
    {
     "name": "stdout",
     "output_type": "stream",
     "text": [
      "enter a number to check whether it is even or odd number: 17\n"
     ]
    },
    {
     "name": "stdout",
     "output_type": "stream",
     "text": [
      "given number odd number\n"
     ]
    }
   ],
   "source": [
    "#6. Implement a program to determine whether a given number is even or odd?\n",
    "num=int(input(\"enter a number to check whether it is even or odd number:\"))\n",
    "if( num%2 )==0:\n",
    "    print(\"given number is an even number\")\n",
    "else :\n",
    "          print( \"given number odd number\")"
   ]
  },
  {
   "cell_type": "code",
   "execution_count": 7,
   "id": "f76315f4-4b0b-4a09-a6c7-3c31876eceff",
   "metadata": {},
   "outputs": [
    {
     "name": "stdout",
     "output_type": "stream",
     "text": [
      "20.0\n",
      "10.0\n",
      "0.0\n"
     ]
    }
   ],
   "source": [
    "#7)Write a Python function to calculate the absolute value of a number without using the `abs()` function.?\n",
    "import math\n",
    "def absolute_value(num):\n",
    "    return math.sqrt(num**2)\n",
    "print(absolute_value(20))\n",
    "print(absolute_value(-10))\n",
    "print(absolute_value(0))"
   ]
  },
  {
   "cell_type": "code",
   "execution_count": 8,
   "id": "429460b0-0ae7-4dde-95f9-378e399bf15b",
   "metadata": {},
   "outputs": [
    {
     "name": "stdout",
     "output_type": "stream",
     "text": [
      "largest number is 30\n"
     ]
    }
   ],
   "source": [
    "#8)Develop a program that determines the largest of three given numbers using if-else statements.?\n",
    "num1=10\n",
    "num2=20\n",
    "num3=30\n",
    "if (num1>=num2) and (num1>=num3):\n",
    "    largest=num1\n",
    "    print(\"largest number is\",largest)\n",
    "elif (num2>=num1) and (num2>=num3):\n",
    "    largest=num2\n",
    "    print(\"largest number is\",largest)\n",
    "else:\n",
    "    largest=num3\n",
    "    print(\"largest number is\",largest)"
   ]
  },
  {
   "cell_type": "code",
   "execution_count": 9,
   "id": "92cdca0e-e617-4684-8fd5-a4b89c5cb176",
   "metadata": {},
   "outputs": [
    {
     "name": "stdout",
     "output_type": "stream",
     "text": [
      "yes\n"
     ]
    }
   ],
   "source": [
    "#9)Create a program that checks if a given string is a palindrome.?\n",
    "def ispalindrome(s):\n",
    "    return s==s[::-1]\n",
    "s=\"level\"\n",
    "ans=ispalindrome(s)\n",
    "if ans:\n",
    "    print(\"yes\")\n",
    "else :\n",
    "    print(\"no\")"
   ]
  },
  {
   "cell_type": "code",
   "execution_count": 10,
   "id": "db6d1149-f7fe-4389-901d-c3d78084e70d",
   "metadata": {},
   "outputs": [
    {
     "name": "stdout",
     "output_type": "stream",
     "text": [
      "excellent performance your grade is c\n"
     ]
    }
   ],
   "source": [
    "#10)Write a Python program to calculate the grade based on a student's score?\n",
    "score=45\n",
    "if score >=90:\n",
    "    print(\"excellent performance your grade is A+\")\n",
    "elif score >=80:\n",
    "    print(\"excellent performance your grade is A\")\n",
    "elif score >=70:\n",
    "    print(\"excellent performance your grade is B\")\n",
    "else:\n",
    "    print(\"excellent performance your grade is c\")"
   ]
  },
  {
   "cell_type": "code",
   "execution_count": 11,
   "id": "dd0adafd-06fc-4125-b1c4-a462e5c41c0e",
   "metadata": {},
   "outputs": [
    {
     "name": "stdout",
     "output_type": "stream",
     "text": [
      "largest number is 30\n"
     ]
    }
   ],
   "source": [
    "#11. Write a program to find the largest among three numbers using nested if-else statements.\n",
    "num1=10\n",
    "num2=20\n",
    "num3=30\n",
    "\n",
    "if (num1>=num2) and (num1>num3):\n",
    "    largest=num1\n",
    "    print(\"largest number is\",largest)\n",
    "elif (num2>=num1) and (num2>=num3):\n",
    "    largest=num2\n",
    "else:\n",
    "    largest=num3\n",
    "    print(\"largest number is\",largest)"
   ]
  },
  {
   "cell_type": "code",
   "execution_count": 12,
   "id": "0027bb00-4bee-4ca9-95d2-bde52711706a",
   "metadata": {},
   "outputs": [
    {
     "name": "stdout",
     "output_type": "stream",
     "text": [
      "scalene triangle\n",
      "None\n"
     ]
    }
   ],
   "source": [
    "#12)Implement a program to determine if a triangle is equilateral, isosceles, or scalene?\n",
    "def checktriangle(x,y,z):\n",
    "    if x==y==z:\n",
    "        print(\"equilateral triangle\")\n",
    "    elif x==y or y==z or z==x:\n",
    "        print(\"isosceles triangle\")\n",
    "    elif x!=y or y!=z or z!=x:\n",
    "        print(\"scalene triangle\")\n",
    "x=11\n",
    "y=12\n",
    "z=13\n",
    "result=checktriangle(x,y,z)\n",
    "print(result)"
   ]
  },
  {
   "cell_type": "code",
   "execution_count": 13,
   "id": "723dff43-8e97-4d82-8b17-24d25b471151",
   "metadata": {},
   "outputs": [
    {
     "name": "stdout",
     "output_type": "stream",
     "text": [
      "leap year\n"
     ]
    }
   ],
   "source": [
    "#13)Develop a program that checks if a year is a leap year and also if it is a century year?\n",
    "def checkyear(year):\n",
    "    import calendar\n",
    "    return(calendar.isleap(year))\n",
    "year=2000\n",
    "if(checkyear(year)):\n",
    "    print(\"leap year\")\n",
    "else:\n",
    "    print(\"not a leap year\")"
   ]
  },
  {
   "cell_type": "code",
   "execution_count": 14,
   "id": "f67d51c8-2e70-48d8-87fa-33a959d35d18",
   "metadata": {},
   "outputs": [
    {
     "name": "stdout",
     "output_type": "stream",
     "text": [
      "number is negative\n"
     ]
    }
   ],
   "source": [
    "#14)Write a Python script to determine if a number is positive, negative, or zero.?\n",
    "num=-1\n",
    "if (num>=0):\n",
    "    if num==0:\n",
    "        print(\"number is 0\")\n",
    "    else:\n",
    "        print(\"number is positive\")\n",
    "else:\n",
    "    print(\"number is negative\")"
   ]
  },
  {
   "cell_type": "code",
   "execution_count": 15,
   "id": "4d90fb86-8f83-4161-893d-e6520852e7d9",
   "metadata": {},
   "outputs": [
    {
     "name": "stdout",
     "output_type": "stream",
     "text": [
      "please enter a persons age. 17\n"
     ]
    },
    {
     "name": "stdout",
     "output_type": "stream",
     "text": [
      "the person is a teenager\n"
     ]
    }
   ],
   "source": [
    "#15)Create a program to check if a person is a teenager (between 13 and 19 years old).?\n",
    "age=int(input(\"please enter a persons age.\"))\n",
    "if age<=12:\n",
    "    print(\"the person is a child\")\n",
    "elif age >=13and age <19:\n",
    "    print(\"the person is a teenager\")\n",
    "else:\n",
    "    if age>=20:\n",
    "        print(\"the person is an adult\")"
   ]
  },
  {
   "cell_type": "code",
   "execution_count": 16,
   "id": "a0aca275-f69a-44f1-aee5-6f76408200d7",
   "metadata": {},
   "outputs": [
    {
     "name": "stdout",
     "output_type": "stream",
     "text": [
      "enter the number of 1: 45\n",
      "enter the number of 2: 39\n",
      "enter the number of 3: 17\n"
     ]
    },
    {
     "name": "stdout",
     "output_type": "stream",
     "text": [
      "obtuse angle\n"
     ]
    }
   ],
   "source": [
    "#16)Develop a program that determines the type of angle based on its measure (acute, obtuse, or right)?\n",
    "\n",
    "a=int(input(\"enter the number of 1:\"))\n",
    "b=int(input(\"enter the number of 2:\"))\n",
    "c=int(input(\"enter the number of 3:\"))\n",
    "if (a+b+c <90):\n",
    "    print(\"acute angle\")\n",
    "if(90>a<=180 or 90>b<180 or 90>c<180):\n",
    "    print(\"obtuse angle\")\n",
    "if (a==90 or b==90 or c==90):\n",
    "    print(\"right angle\")"
   ]
  },
  {
   "cell_type": "code",
   "execution_count": 17,
   "id": "49f62b2d-f038-4bbb-9a9b-861f8ddb3f00",
   "metadata": {},
   "outputs": [
    {
     "name": "stdout",
     "output_type": "stream",
     "text": [
      "Roots are real and same\n",
      "-2.0\n"
     ]
    }
   ],
   "source": [
    "#17) Write a Python program to calculate the roots of a quadratic equation.?\n",
    "import math\n",
    "def findRoots(a, b, c):\n",
    "    if a == 0:\n",
    "        print(\"Invalid\")\n",
    "        return -1    \n",
    "    d = b * b - 4 * a * c\n",
    "    sqrt_val = math.sqrt(abs(d))\n",
    " \n",
    "    if d > 0:\n",
    "        print(\"Roots are real and different \")\n",
    "        print((-b + sqrt_val)/(2 * a))\n",
    "        print((-b - sqrt_val)/(2 * a))\n",
    "    elif d == 0:\n",
    "        print(\"Roots are real and same\")\n",
    "        print(-b / (2*a))\n",
    "    else:\n",
    "        print(\"Roots are complex\")\n",
    "        print(- b / (2*a), \" + i\", sqrt_val)\n",
    "        print(- b / (2*a), \" - i\", sqrt_val)\n",
    "a = 1\n",
    "b = 4\n",
    "c = 4\n",
    "findRoots(a, b, c)"
   ]
  },
  {
   "cell_type": "code",
   "execution_count": 18,
   "id": "52079fa4-8be4-44b3-9952-e0857ab8f892",
   "metadata": {},
   "outputs": [
    {
     "name": "stdout",
     "output_type": "stream",
     "text": [
      "monday\n"
     ]
    }
   ],
   "source": [
    "#18) Implement a program to determine the day of the week based on a user-provided number (1 for Monday, 2 \n",
    "#for Tuesday, etc.).?\n",
    "import calendar\n",
    "def findday(date):\n",
    "    day,month,year=(int(i)for i in date.split(\" \"))\n",
    "    daynumber=calendar.weekday(year,month,day)\n",
    "    days=[\"monday\",\"tuesday\",\"wednesday\",\"thuresday\",\"friday\",\"saturday\",\"sunday\"]\n",
    "    return(days[daynumber])\n",
    "date=\"05 06 1995\"\n",
    "print(findday(date))"
   ]
  },
  {
   "cell_type": "code",
   "execution_count": 19,
   "id": "93813c70-0005-45ab-86d4-7d0bb3ffcf2b",
   "metadata": {},
   "outputs": [
    {
     "name": "stdout",
     "output_type": "stream",
     "text": [
      " 2002\n"
     ]
    },
    {
     "name": "stdout",
     "output_type": "stream",
     "text": [
      "False\n"
     ]
    }
   ],
   "source": [
    "#19). Create a program that determines if a year is a leap year and also if it is evenly divisible by 400.\n",
    "def is_leap(year):\n",
    "    leap=False\n",
    "    if year %400==0:\n",
    "        leap=True\n",
    "    elif year %4==0 and year %100!=0:\n",
    "        leap=True\n",
    "    return leap\n",
    "year = int(input())\n",
    "print(is_leap(year))"
   ]
  },
  {
   "cell_type": "code",
   "execution_count": 20,
   "id": "73b317be-0bca-4b60-abf7-f158916ae6bf",
   "metadata": {},
   "outputs": [
    {
     "name": "stdout",
     "output_type": "stream",
     "text": [
      "13 is a prime number\n"
     ]
    }
   ],
   "source": [
    "#20). Develop a program that checks if a given number is prime or not using nested if-else statements.?\n",
    "num=13\n",
    "if num>1:\n",
    "    for i in range(2,int(num/2)+1):\n",
    "        if(num%i)==0:\n",
    "            print(num,\"is not a prime number\")\n",
    "            break\n",
    "    else:\n",
    "        print(num,\"is a prime number\")\n",
    "else:\n",
    "    print(num,\"is not a prime number\")"
   ]
  },
  {
   "cell_type": "code",
   "execution_count": 21,
   "id": "b08141b8-5601-4c9c-8866-725219543cbb",
   "metadata": {},
   "outputs": [
    {
     "name": "stdout",
     "output_type": "stream",
     "text": [
      "enter mark obtained in 5 subjects:\n",
      "your grade is b2\n"
     ]
    }
   ],
   "source": [
    "#21) Write a Python program to assign grades based on different ranges of scores using elif statements.?\n",
    "print(\"enter mark obtained in 5 subjects:\")\n",
    "total1=44\n",
    "total2=67\n",
    "total3=76\n",
    "total4=91\n",
    "total5=73\n",
    "tot=total1+total2+total3+total4+total5\n",
    "avg=tot/5\n",
    "if avg >= 91 and avg <=100:\n",
    "    print(\"your grade is a1\")\n",
    "elif avg >= 81 and avg <91:\n",
    "    print(\"your grade is a2\")\n",
    "elif avg >= 71 and avg <81:\n",
    "    print(\"your grade is b1\")\n",
    "elif avg >=61 and avg <71:\n",
    "    print(\"your grade is b2\")\n",
    "elif avg >=51 and avg <61:\n",
    "    print(\"your grade is c1\")\n",
    "elif avg >=41 and avg <51:\n",
    "    print(\"your grade is c2\")\n",
    "elif avg >=31  and avg <41:\n",
    "    print(\"your grade is d\")\n",
    "elif avg>=21 and avg<31:\n",
    "    print(\"your grade if e1\")\n",
    "elif avg >=0 and avg < 21:\n",
    "    print(\"your grade is e2\")\n",
    "else:\n",
    "    print(\"invalid input\")"
   ]
  },
  {
   "cell_type": "code",
   "execution_count": 22,
   "id": "e67c95a3-6070-4105-9014-40cb49246300",
   "metadata": {},
   "outputs": [
    {
     "name": "stdout",
     "output_type": "stream",
     "text": [
      "scalene triangle\n",
      "None\n"
     ]
    }
   ],
   "source": [
    "#22)Implement a program to determine the type of a triangle based on its angles.?\n",
    "def checktriangle(x,y,z):\n",
    "    if x==y==z:\n",
    "        print(\"equilateral triangle\")\n",
    "    elif x==y or y==z or z==x:\n",
    "        print(\"isosceles triangle\")\n",
    "    elif x!=y or y!=z or z!=x:\n",
    "        print(\"scalene triangle\")\n",
    "x=90\n",
    "y=56\n",
    "z=45\n",
    "result=checktriangle(x,y,z)\n",
    "print(result)"
   ]
  },
  {
   "cell_type": "code",
   "execution_count": 23,
   "id": "5e20f48e-f599-4dae-a761-20b0d708a064",
   "metadata": {},
   "outputs": [
    {
     "name": "stdout",
     "output_type": "stream",
     "text": [
      "the BMI is 26.05444728442923 so overweight\n"
     ]
    }
   ],
   "source": [
    "#23) Develop a program to categorize a given person's BMI into underweight, normal, overweight, or obese using \n",
    "#elif statements\n",
    "def BMI(height,weight):\n",
    "    bmi=weight/(height**2)\n",
    "    return bmi\n",
    "height=1.7632\n",
    "weight=81\n",
    "bmi=BMI(height,weight)\n",
    "print(\"the BMI is\",format(bmi),\"so\",end=\" \")\n",
    "if (bmi<18.5):\n",
    "    print(\"underweight\")\n",
    "elif(bmi>=18.5 and bmi<24.9):\n",
    "    print(\"healthy\")\n",
    "elif(bmi>=24.9 and bmi<30):\n",
    "    print(\"overweight\")\n",
    "elif(bmi>=30):\n",
    "    print(\"suffering from odesity\")"
   ]
  },
  {
   "cell_type": "code",
   "execution_count": 24,
   "id": "8ece26ab-73e8-4ab2-9a26-243f10418618",
   "metadata": {},
   "outputs": [
    {
     "name": "stdout",
     "output_type": "stream",
     "text": [
      "number is 0\n"
     ]
    }
   ],
   "source": [
    "#24). Create a program that determines whether a given number is positive, negative, or zero using elif \n",
    "#statements.?\n",
    "num=0\n",
    "if (num>=0):\n",
    "    if num==0:\n",
    "        print(\"number is 0\")\n",
    "    else:\n",
    "        print(\"number is positive\")\n",
    "else:\n",
    "    print(\"number is negative\")"
   ]
  },
  {
   "cell_type": "code",
   "execution_count": 25,
   "id": "4373c167-7ab6-41de-81f9-8e67805da553",
   "metadata": {},
   "outputs": [
    {
     "name": "stdout",
     "output_type": "stream",
     "text": [
      "A is an Uppercase character\n",
      "a is an Lowercase character\n",
      "$ is an special character\n"
     ]
    }
   ],
   "source": [
    "#25). Write a Python script to determine the type of a character (uppercase, lowercase, or special) using elif \n",
    "#statements.?\n",
    "def check(ch):\n",
    "    if(ch>=\"A\" and ch<=\"Z\"):\n",
    "        print(ch,\"is an Uppercase character\")\n",
    "    elif(ch>=\"a\" and ch<=\"z\"):\n",
    "        print(ch,\"is an Lowercase character\")\n",
    "    else:\n",
    "        print(ch,\"is an special character\")\n",
    "ch=\"A\";\n",
    "check(ch);\n",
    "ch=\"a\";\n",
    "check(ch);\n",
    "ch=\"$\";\n",
    "check(ch);"
   ]
  },
  {
   "cell_type": "code",
   "execution_count": 26,
   "id": "62e9e3d4-1ec2-4176-ba89-1abeca089898",
   "metadata": {},
   "outputs": [
    {
     "name": "stdout",
     "output_type": "stream",
     "text": [
      "enter sale amount: 47000\n"
     ]
    },
    {
     "name": "stdout",
     "output_type": "stream",
     "text": [
      "discount: 14100.0\n",
      "net pay: 32900.0\n"
     ]
    }
   ],
   "source": [
    "#26)Implement a program to calculate the discounted price based on different purchase amounts using elif \n",
    "#statements.?\n",
    "amt=int(input(\"enter sale amount:\"))\n",
    "if(amt>0):\n",
    "    if amt<=5000:\n",
    "        disc=amt*0.05\n",
    "    elif amt<=15000:\n",
    "        disc=amt*0.12\n",
    "    elif amt<=25000:\n",
    "        disc=amt*0.2\n",
    "    else:\n",
    "        disc=amt*0.3\n",
    "    print(\"discount:\",disc)\n",
    "    print(\"net pay:\",amt-disc)\n",
    "else:\n",
    "    print(\"invalid amount\")"
   ]
  },
  {
   "cell_type": "code",
   "execution_count": 27,
   "id": "3506fd4f-0919-4ad0-bbe9-b555f8aabbd7",
   "metadata": {},
   "outputs": [
    {
     "name": "stdout",
     "output_type": "stream",
     "text": [
      "4040\n"
     ]
    }
   ],
   "source": [
    "#27). Develop a program to calculate the electricity bill based on different consumption slabs using elif \n",
    "#statements?\n",
    "def calculatebill(units):\n",
    "    if(units<=100):\n",
    "        return units*10;\n",
    "    elif(units<=200):\n",
    "        return((100*10)+(units-100)*15);\n",
    "    elif(units<=300):\n",
    "        return((100*10)+(100*15)+(units-200)*20);\n",
    "    return0;\n",
    "units=277;\n",
    "print(calculatebill(units));"
   ]
  },
  {
   "cell_type": "code",
   "execution_count": 28,
   "id": "f7a32611-a395-4dff-9cff-76dafb9f43f3",
   "metadata": {},
   "outputs": [
    {
     "name": "stdout",
     "output_type": "stream",
     "text": [
      "60.0 , 80.0 , 100.0 , 120.0\n"
     ]
    }
   ],
   "source": [
    "#28. Create a program to determine the type of quadrilateral based on its angles and sides using elif \n",
    "#statements.?\n",
    "d=20\n",
    "a=0.0\n",
    "a=(360-(6*d))/4\n",
    "print(a,\",\",a+d,\",\",a+2*d,\",\",a+3*d,sep=\" \")"
   ]
  },
  {
   "cell_type": "code",
   "execution_count": 29,
   "id": "a4247177-c41c-4a55-9b52-a8bd4acd7c5a",
   "metadata": {},
   "outputs": [
    {
     "name": "stdout",
     "output_type": "stream",
     "text": [
      "for month number: 6\n",
      "summer\n",
      "for month number: 12\n",
      "winter\n"
     ]
    }
   ],
   "source": [
    "#29)Write a Python script to determine the season based on a user-provided month using elif statements?\n",
    "def findseason(M):\n",
    "    list1=[[12,1,2],[3,4,5],\n",
    "           [6,7,8],[9,10,11]]\n",
    "    if M in list1[0]:\n",
    "        print(\"winter\")\n",
    "    elif M in list1[1]:\n",
    "        print(\"spring\")\n",
    "    elif M in list1[2]:\n",
    "        print(\"summer\")\n",
    "    elif M in list1[3]:\n",
    "        print(\"autumn\")\n",
    "    else:\n",
    "        print(\"invalid month number\")\n",
    "M=6\n",
    "print(\"for month number:\",M);\n",
    "findseason(M)\n",
    "M=12\n",
    "print(\"for month number:\",M);\n",
    "findseason(M)"
   ]
  },
  {
   "cell_type": "code",
   "execution_count": 30,
   "id": "9c74cd22-63f5-44cf-a6fd-298c17bee8b1",
   "metadata": {},
   "outputs": [
    {
     "name": "stdout",
     "output_type": "stream",
     "text": [
      "type a year:  1995\n"
     ]
    },
    {
     "name": "stdout",
     "output_type": "stream",
     "text": [
      "you typed in : 1995\n"
     ]
    },
    {
     "name": "stdout",
     "output_type": "stream",
     "text": [
      "type a month:  june\n"
     ]
    },
    {
     "name": "stdout",
     "output_type": "stream",
     "text": [
      "you typed in : june\n",
      "this month has 30 days\n",
      "is not a leap year\n"
     ]
    }
   ],
   "source": [
    "#30. Implement a program to determine the type of a year (leap or common) and month (30 or 31 days) using \n",
    "#elif statements?\n",
    "def cal(month):\n",
    "    if month in ['January', 'march','may','july','august','oct','dec']:\n",
    "        print (\"this month has 31 days\")\n",
    "    elif month in ['april','june','sept','nov']:\n",
    "        print (\"this month has 30 days\")\n",
    "    elif month == 'feb' and leap(year)== True:\n",
    "        print (\"this month has 29 days\")\n",
    "    elif month == 'feb' and leap(year) == False:\n",
    "        print (\"this month has 28 days\")\n",
    "    else:\n",
    "        print (\"invalid input\")   \n",
    "\n",
    "\n",
    "def leap(year):\n",
    "    if (year % 4== 0) or (year % 400 == 0):\n",
    "        print (\"its a leap year!\")\n",
    "    else: \n",
    "        print (\"is not a leap year\")\n",
    "\n",
    "year = int(input('type a year: '))\n",
    "print ('you typed in :' , year)\n",
    "month = str(input('type a month: '))\n",
    "print ('you typed in :', month)\n",
    "cal(month)\n",
    "leap(year)"
   ]
  },
  {
   "cell_type": "code",
   "execution_count": 31,
   "id": "1fa05c40-a8a4-4e75-8c98-886e69465f6d",
   "metadata": {},
   "outputs": [
    {
     "name": "stdout",
     "output_type": "stream",
     "text": [
      "number is positive\n"
     ]
    }
   ],
   "source": [
    "#1. Write a Python program that checks if a given number is positive, negative, or zero\n",
    "num=7\n",
    "if (num>=0):\n",
    "    if num==0:\n",
    "        print(\"number is 0\")\n",
    "    else:\n",
    "        print(\"number is positive\")\n",
    "else:\n",
    "    print(\"number is negative\")"
   ]
  },
  {
   "cell_type": "code",
   "execution_count": 32,
   "id": "f9a80d69-ff2a-492e-a0c3-97e631303010",
   "metadata": {},
   "outputs": [
    {
     "name": "stdout",
     "output_type": "stream",
     "text": [
      "Enter age :  21\n"
     ]
    },
    {
     "name": "stdout",
     "output_type": "stream",
     "text": [
      "Eligible for Voting! \n"
     ]
    }
   ],
   "source": [
    "#2. Create a program to determine if a person is eligible to vote based on their age.\n",
    "age = int(input(\"Enter age : \")) \n",
    "\n",
    "if age >= 18: \n",
    "    \n",
    "    print(\"Eligible for Voting! \") \n",
    "    \n",
    "else: \n",
    "    print(\"Not Eligible for Voting! \")"
   ]
  },
  {
   "cell_type": "code",
   "execution_count": 33,
   "id": "6c993776-7470-4f6e-9504-c8ea675eaa4c",
   "metadata": {},
   "outputs": [
    {
     "name": "stdout",
     "output_type": "stream",
     "text": [
      "11\n"
     ]
    }
   ],
   "source": [
    "#3. Write a program to find the maximum of two given numbers using conditional statements.?\n",
    "def maximum(a, b):\n",
    "     \n",
    "    if a >= b:\n",
    "        return a\n",
    "    else:\n",
    "        return b\n",
    "a = 7\n",
    "b = 11\n",
    "print(maximum(a, b))"
   ]
  },
  {
   "cell_type": "code",
   "execution_count": 34,
   "id": "e1c62135-fbec-428b-8c31-b9a25bbba08a",
   "metadata": {},
   "outputs": [
    {
     "name": "stdout",
     "output_type": "stream",
     "text": [
      "excellent performance your grade is B\n"
     ]
    }
   ],
   "source": [
    "#4. Develop a program that calculates the grade of a student based on their exam score?\n",
    "score=77\n",
    "if score >=90:\n",
    "    print(\"excellent performance your grade is A+\")\n",
    "elif score >=80:\n",
    "    print(\"excellent performance your grade is A\")\n",
    "elif score >=70:\n",
    "    print(\"excellent performance your grade is B\")\n",
    "else:\n",
    "    print(\"excellent performance your grade is c\")"
   ]
  },
  {
   "cell_type": "code",
   "execution_count": 35,
   "id": "2bca70c2-2f53-4fa7-9b22-6fe8aa5257ec",
   "metadata": {},
   "outputs": [
    {
     "name": "stdout",
     "output_type": "stream",
     "text": [
      "not a leap year\n"
     ]
    }
   ],
   "source": [
    "#5. Create a program that checks if a year is a leap year or not.?\n",
    "def checkyear(year):\n",
    "    import calendar\n",
    "    return(calendar.isleap(year))\n",
    "year=2001\n",
    "if(checkyear(year)):\n",
    "    print(\"leap year\")\n",
    "else:\n",
    "    print(\"not a leap year\")"
   ]
  },
  {
   "cell_type": "code",
   "execution_count": 36,
   "id": "515ea99d-cab6-4627-a639-80f368df2c6d",
   "metadata": {},
   "outputs": [
    {
     "name": "stdout",
     "output_type": "stream",
     "text": [
      "Enter length of side a:  7\n",
      "Enter length of side b:  8\n",
      "Enter length of side c:  13\n"
     ]
    },
    {
     "name": "stdout",
     "output_type": "stream",
     "text": [
      "Triangle is Scalane\n"
     ]
    }
   ],
   "source": [
    "#6. Write a program to classify a triangle based on its sides' lengths.?\n",
    "def is_valid_triangle(a,b,c):\n",
    "    if a+b>=c and b+c>=a and c+a>=b:\n",
    "        return True\n",
    "    else:\n",
    "        return False\n",
    "def type_of_triangle(a,b,c):\n",
    "    if a==b and b==c:\n",
    "        print('Triangle is Equilateral.')\n",
    "    elif a==b or b==c or a==c:\n",
    "        print('Triangle is Isosceles.')\n",
    "    else:\n",
    "        print('Triangle is Scalane')\n",
    "side_a = float(input('Enter length of side a: '))\n",
    "side_b = float(input('Enter length of side b: '))\n",
    "side_c = float(input('Enter length of side c: '))\n",
    "if is_valid_triangle(side_a, side_b, side_c):\n",
    "    type_of_triangle(side_a, side_b, side_c)\n",
    "else:\n",
    "    print('Tringle is not possible from given sides.')"
   ]
  },
  {
   "cell_type": "code",
   "execution_count": 37,
   "id": "4e7ce156-b37f-47c0-a859-d0800961245b",
   "metadata": {},
   "outputs": [
    {
     "name": "stdout",
     "output_type": "stream",
     "text": [
      "largest number is 51\n"
     ]
    }
   ],
   "source": [
    "#7. Build a program that determines the largest of three given numbers.?\n",
    "num1=17\n",
    "num2=51\n",
    "num3=33\n",
    "if (num1>=num2) and (num1>=num3):\n",
    "    largest=num1\n",
    "    print(\"largest number is\",largest)\n",
    "elif (num2>=num1) and (num2>=num3):\n",
    "    largest=num2\n",
    "    print(\"largest number is\",largest)\n",
    "else:\n",
    "    largest=num3\n",
    "    print(\"largest number is\",largest)"
   ]
  },
  {
   "cell_type": "code",
   "execution_count": 38,
   "id": "02b3a637-270c-4772-b2b7-a8d8994900ac",
   "metadata": {},
   "outputs": [
    {
     "name": "stdout",
     "output_type": "stream",
     "text": [
      "Enter a character:  r\n"
     ]
    },
    {
     "name": "stdout",
     "output_type": "stream",
     "text": [
      "r is a Consonant\n"
     ]
    }
   ],
   "source": [
    "#8. Develop a program that checks whether a character is a vowel or a consonant?\n",
    "ch = input(\"Enter a character: \")\n",
    "if(ch=='A' or ch=='a' or ch=='E' or ch =='e' or ch=='I'\n",
    " or ch=='i' or ch=='O' or ch=='o' or ch=='U' or ch=='u'):\n",
    "    print(ch, \"is a Vowel\")\n",
    "else:\n",
    "    print(ch, \"is a Consonant\")"
   ]
  },
  {
   "cell_type": "code",
   "execution_count": 39,
   "id": "5d747e77-bb1d-402e-a975-a5513400b2da",
   "metadata": {},
   "outputs": [
    {
     "name": "stdout",
     "output_type": "stream",
     "text": [
      "enter sale amount: 4200\n"
     ]
    },
    {
     "name": "stdout",
     "output_type": "stream",
     "text": [
      "Discount :  210.0\n",
      "Net Pay  :  3990.0\n"
     ]
    }
   ],
   "source": [
    "#9. Create a program to calculate the total cost of a shopping cart based on discounts?\n",
    "amt=int(input(\"enter sale amount:\"))\n",
    "if(amt>0):\n",
    "    if amt<=5000:\n",
    "        disc=amt*0.05\n",
    "    elif amt<=15000:\n",
    "        disc=amt*0.12\n",
    "    elif amt<=25000:\n",
    "        disc=0.2*amt\n",
    "    else:\n",
    "        disc=0.3*amt\n",
    "    print(\"Discount : \",disc)\n",
    "    print(\"Net Pay  : \",amt-disc)\n",
    "else:\n",
    "    print(\"Invalid Amount\")  "
   ]
  },
  {
   "cell_type": "code",
   "execution_count": 41,
   "id": "bbf2aeb4-eb61-4a1f-ba04-91dff57c496f",
   "metadata": {},
   "outputs": [
    {
     "name": "stdout",
     "output_type": "stream",
     "text": [
      "enter a number to check whether it is even or odd number: 42\n"
     ]
    },
    {
     "name": "stdout",
     "output_type": "stream",
     "text": [
      "given number is an even number\n"
     ]
    }
   ],
   "source": [
    "#10. Write a program that checks if a given number is even or odd?\n",
    "num=int(input(\"enter a number to check whether it is even or odd number:\"))\n",
    "if( num%2 )==0:\n",
    "    print(\"given number is an even number\")\n",
    "else :\n",
    "          print( \"given number odd number\")"
   ]
  },
  {
   "cell_type": "code",
   "execution_count": 42,
   "id": "f803621a-6506-436b-b4cf-278382c1f1c7",
   "metadata": {},
   "outputs": [
    {
     "name": "stdout",
     "output_type": "stream",
     "text": [
      "Roots are real and same\n",
      "-2.0\n"
     ]
    }
   ],
   "source": [
    "#11. Write a program that calculates the roots of a quadratic equation .?\n",
    "import math\n",
    "def findRoots(a, b, c):\n",
    "    if a == 0:\n",
    "        print(\"Invalid\")\n",
    "        return -1    \n",
    "    d = b * b - 4 * a * c\n",
    "    sqrt_val = math.sqrt(abs(d))\n",
    " \n",
    "    if d > 0:\n",
    "        print(\"Roots are real and different \")\n",
    "        print((-b + sqrt_val)/(2 * a))\n",
    "        print((-b - sqrt_val)/(2 * a))\n",
    "    elif d == 0:\n",
    "        print(\"Roots are real and same\")\n",
    "        print(-b / (2*a))\n",
    "    else:\n",
    "        print(\"Roots are complex\")\n",
    "        print(- b / (2*a), \" + i\", sqrt_val)\n",
    "        print(- b / (2*a), \" - i\", sqrt_val)\n",
    "a = 1\n",
    "b = 4\n",
    "c = 4\n",
    "findRoots(a, b, c)"
   ]
  },
  {
   "cell_type": "code",
   "execution_count": 43,
   "id": "03db9540-4b87-4cc3-96e5-44327fd5fa19",
   "metadata": {},
   "outputs": [
    {
     "name": "stdout",
     "output_type": "stream",
     "text": [
      "enter a number from 1 to 7: 3\n"
     ]
    },
    {
     "name": "stdout",
     "output_type": "stream",
     "text": [
      "3 is tuesday\n"
     ]
    }
   ],
   "source": [
    "#12. Create a program that determines the day of the week based on the day number (1-7).?\n",
    "day=int(input(\"enter a number from 1 to 7:\"))\n",
    "if day ==1:\n",
    "    print(day,\"is sunday\")\n",
    "elif day==2:\n",
    "    print(day,\"is monday\")\n",
    "elif day==3:\n",
    "    print(day,\"is tuesday\")\n",
    "elif day==4:\n",
    "    print(day,\"is wednesday\")\n",
    "elif day==5:\n",
    "    print(day,\"is thursday\")\n",
    "elif day==6:\n",
    "    print(day,\"is friday\")\n",
    "elif day==7:\n",
    "    print(day,\"is saturday\")\n",
    "else:\n",
    "    print(\"wrong input! please enter a number from 1 to 7\")"
   ]
  },
  {
   "cell_type": "code",
   "execution_count": 44,
   "id": "509099cf-c360-43f2-b84c-bbc3304edb92",
   "metadata": {},
   "outputs": [
    {
     "name": "stdout",
     "output_type": "stream",
     "text": [
      "number: 7\n",
      "factorial: 5040\n"
     ]
    }
   ],
   "source": [
    "#13. Develop a program that calculates the factorial of a given number using recursion?\n",
    "def factorial(n):\n",
    "    if(n==1 or n==0):\n",
    "        return 1\n",
    "    else:\n",
    "        return(n*factorial(n-1))\n",
    "num=7;\n",
    "print(\"number:\",num)\n",
    "print(\"factorial:\",factorial(num))"
   ]
  },
  {
   "cell_type": "code",
   "execution_count": 45,
   "id": "0d43b97f-2e31-4ad0-a975-9a70354694eb",
   "metadata": {},
   "outputs": [
    {
     "name": "stdout",
     "output_type": "stream",
     "text": [
      "None\n"
     ]
    }
   ],
   "source": [
    "#14. Write a program to find the largest among three numbers without using the `max()` function?\n",
    "def maximum(a,b,c):\n",
    "    if(a>=b)and(a>=c):\n",
    "        largest=a\n",
    "    elif(b>=a)and(b>=c):\n",
    "        largest=b\n",
    "    else:\n",
    "        largest=c\n",
    "a=11\n",
    "b=19\n",
    "c=15\n",
    "print(maximum(a,b,c))"
   ]
  },
  {
   "cell_type": "code",
   "execution_count": 46,
   "id": "5ae19710-642a-4593-b185-531baa516e02",
   "metadata": {},
   "outputs": [
    {
     "name": "stdout",
     "output_type": "stream",
     "text": [
      "Hello Welcome to the Deposit & Withdrawal Machine\n"
     ]
    },
    {
     "name": "stdout",
     "output_type": "stream",
     "text": [
      "Enter amount to be Deposited:  2700\n"
     ]
    },
    {
     "name": "stdout",
     "output_type": "stream",
     "text": [
      "\n",
      " Amount Deposited: 2700.0\n"
     ]
    },
    {
     "name": "stdout",
     "output_type": "stream",
     "text": [
      "Enter amount to be Withdrawn:  1200\n"
     ]
    },
    {
     "name": "stdout",
     "output_type": "stream",
     "text": [
      "\n",
      " You Withdrew: 1200.0\n",
      "\n",
      " Net Available Balance= 1500.0\n"
     ]
    }
   ],
   "source": [
    "#15. Create a program that simulates a basic ATM transaction menu?\n",
    "class Bank_Account:\n",
    "    def __init__(self):\n",
    "        self.balance=0\n",
    "        print(\"Hello Welcome to the Deposit & Withdrawal Machine\")\n",
    " \n",
    "    def deposit(self):\n",
    "        amount=float(input(\"Enter amount to be Deposited: \"))\n",
    "        self.balance += amount\n",
    "        print(\"\\n Amount Deposited:\",amount)\n",
    " \n",
    "    def withdraw(self):\n",
    "        amount = float(input(\"Enter amount to be Withdrawn: \"))\n",
    "        if self.balance>=amount:\n",
    "            self.balance-=amount\n",
    "            print(\"\\n You Withdrew:\", amount)\n",
    "        else:\n",
    "            print(\"\\n Insufficient balance  \")\n",
    " \n",
    "    def display(self):\n",
    "        print(\"\\n Net Available Balance=\",self.balance)\n",
    "s = Bank_Account()\n",
    "s.deposit()\n",
    "s.withdraw()\n",
    "s.display()"
   ]
  },
  {
   "cell_type": "code",
   "execution_count": 47,
   "id": "ad7538e6-eeb0-491f-9c2e-bb2072c707da",
   "metadata": {},
   "outputs": [
    {
     "name": "stdout",
     "output_type": "stream",
     "text": [
      "no\n"
     ]
    }
   ],
   "source": [
    "#16. Build a program that checks if a given string is a palindrome or not.?\n",
    "def ispalindrome(s):\n",
    "    \n",
    "    return s==s[::-1]\n",
    "s=\"kuamr\"\n",
    "ans=ispalindrome(s)\n",
    "if ans:\n",
    "    print(\"yes\")\n",
    "else:\n",
    "    print(\"no\")"
   ]
  },
  {
   "cell_type": "code",
   "execution_count": 48,
   "id": "4976d12f-3496-41be-bd33-360939b6a655",
   "metadata": {},
   "outputs": [
    {
     "name": "stdout",
     "output_type": "stream",
     "text": [
      "Average of the list= 33.27\n"
     ]
    }
   ],
   "source": [
    "#17. Write a program that calculates the average of a list of numbers, excluding the smallest and largest values?\n",
    "def Averege(lst):\n",
    "    return sum(lst)/len(lst)\n",
    "lst=[19,7,9,6,5,4,35,49,87,96,49]\n",
    "average=Averege(lst)\n",
    "print(\"Average of the list=\",round(average,2))"
   ]
  },
  {
   "cell_type": "code",
   "execution_count": 49,
   "id": "0c8774ab-65d6-4a25-9908-938fd91fcc57",
   "metadata": {},
   "outputs": [
    {
     "name": "stdout",
     "output_type": "stream",
     "text": [
      "Enter temperature in Celsius:  36\n"
     ]
    },
    {
     "name": "stdout",
     "output_type": "stream",
     "text": [
      "36.0 Celsius is equal to 96.80 Fahrenheit\n"
     ]
    }
   ],
   "source": [
    "#18. Develop a program that converts a given temperature from Celsius to Fahrenheit.?\n",
    "celsius_temperature = float(input(\"Enter temperature in Celsius: \"))\n",
    "fahrenheit_temperature = (celsius_temperature * 9/5) + 32\n",
    "print(f\"{celsius_temperature} Celsius is equal to {fahrenheit_temperature:.2f} Fahrenheit\")"
   ]
  },
  {
   "cell_type": "code",
   "execution_count": 50,
   "id": "e6c07ff4-af23-4940-b571-256f74c3b309",
   "metadata": {},
   "outputs": [
    {
     "name": "stdout",
     "output_type": "stream",
     "text": [
      "enter number1: 17\n",
      "enter number2: 11\n",
      "enter op: -\n"
     ]
    },
    {
     "name": "stdout",
     "output_type": "stream",
     "text": [
      "6\n"
     ]
    }
   ],
   "source": [
    "#19. Create a program that simulates a basic calculator for addition, subtraction, multiplication, and division.?\n",
    "num1=int(input(\"enter number1:\"))\n",
    "num2=int(input(\"enter number2:\"))\n",
    "op=input(\"enter op:\")\n",
    "if op==\"+\":\n",
    "       print(num1+num2)\n",
    "elif op==\"-\":\n",
    "       print(num1-num2)\n",
    "elif op==\"*\":\n",
    "       print(num1*num2)\n",
    "elif op==\"/\":\n",
    "       print(\"num1/num2\")\n",
    "else:\n",
    "       print(\"invalid op\")"
   ]
  },
  {
   "cell_type": "code",
   "execution_count": 51,
   "id": "2f922e8c-6d8e-4495-9e42-90dd534462e6",
   "metadata": {},
   "outputs": [
    {
     "name": "stdout",
     "output_type": "stream",
     "text": [
      "x^3 -  10 x^2 +  31 x -  30  = 0\n"
     ]
    }
   ],
   "source": [
    "#20. Write a program that determines the roots of a cubic equation using the Cardano formula.?\n",
    "def findEquation(a, b, c):\n",
    "    X = (a + b + c);\n",
    "    Y = (a * b) + (b * c) + (c * a);\n",
    "    Z = (a * b * c);\n",
    "    print(\"x^3 - \" , X ,\n",
    "          \"x^2 + \" ,Y ,\n",
    "          \"x - \" , Z , \" = 0\");\n",
    "if __name__ == '__main__':\n",
    "     \n",
    "    a = 5;\n",
    "    b = 2;\n",
    "    c = 3;\n",
    "    findEquation(a, b, c);"
   ]
  },
  {
   "cell_type": "code",
   "execution_count": 52,
   "id": "44257677-c0da-4366-bde4-0a2ddef4cd4e",
   "metadata": {},
   "outputs": [
    {
     "name": "stdout",
     "output_type": "stream",
     "text": [
      "what's your\u0007nnual income?\n",
      ">>> 375000\n"
     ]
    },
    {
     "name": "stdout",
     "output_type": "stream",
     "text": [
      "total tax applicable at\\₹375000.0 is ₹6250.0\n"
     ]
    }
   ],
   "source": [
    "#21. Create a program that calculates the income tax based on the user's income and tax brackets.\n",
    "def calculate(amount,percent):\n",
    "    return(amount*percent)/100\n",
    "def calculate_income_tax(total_income:\n",
    "                         float)->float:\n",
    "    if total_income<=250000:\n",
    "        return 0\n",
    "    elif total_income<=500000:\n",
    "        return calculate(total_income-250000,5)\n",
    "    elif total_income<=750000:\n",
    "        return calculate(total_income-500000,10)+12500\n",
    "    elif total_income<=1000000:\n",
    "        return calculate(total_income-750000,15)+37500\n",
    "    elif total_income<=1250000:\n",
    "        return calculate(total_income-1000000,20)+75000\n",
    "    elif total_income<=1500000:\n",
    "        return calculate(total_income-1250000,25)+125000\n",
    "    else:\n",
    "        return calculate(total_income-1500000,30)+187500\n",
    "if __name__==\"__main__\":\n",
    "    total_income=float(input(\"what's your\\annual income?\\n>>>\"))\n",
    "    tax=calculate_income_tax(total_income)\n",
    "    print(f\"total tax applicable at\\₹{total_income} is ₹{tax}\")"
   ]
  },
  {
   "cell_type": "code",
   "execution_count": 54,
   "id": "273f69e4-7bd9-4019-8128-fb116d1c0548",
   "metadata": {},
   "outputs": [
    {
     "name": "stdout",
     "output_type": "stream",
     "text": [
      "enter password length: 8\n"
     ]
    },
    {
     "name": "stdout",
     "output_type": "stream",
     "text": [
      "choose character set for password from these:\n",
      "         1.digits\n",
      "         2.letters\n",
      "         3.special characters\n",
      "         4.exit\n"
     ]
    },
    {
     "name": "stdout",
     "output_type": "stream",
     "text": [
      "pick a number 1\n",
      "pick a number 4\n"
     ]
    },
    {
     "name": "stdout",
     "output_type": "stream",
     "text": [
      "the random password is xtLxaYyu\n"
     ]
    }
   ],
   "source": [
    "#23. Develop a program that generates a random password based on user preferences (length, complexity)?\n",
    "import string\n",
    "import random\n",
    "length=int(input(\"enter password length:\"))\n",
    "print('''choose character set for password from these:\n",
    "         1.digits\n",
    "         2.letters\n",
    "         3.special characters\n",
    "         4.exit''')\n",
    "characterlist=\"\"\n",
    "while(True):\n",
    "    choice=int(input(\"pick a number\"))\n",
    "    if (choice==1):\n",
    "        characterlist+=string.ascii_letters\n",
    "    elif(choice==2):\n",
    "        characterlist+=string.digits\n",
    "    elif(choice==3):\n",
    "        charactlist+=string.punctuation\n",
    "    elif(choice==4):\n",
    "        break\n",
    "    else:\n",
    "        print(\"please pick a valid option!\")\n",
    "password=[]\n",
    " \n",
    "for i in range(length):\n",
    "    randomchar=random.choice(characterlist)\n",
    "    password.append(randomchar)\n",
    "print(\"the random password is \"+\"\".join(password)) "
   ]
  },
  {
   "cell_type": "code",
   "execution_count": 55,
   "id": "d66c939f-1193-4a14-9c81-874336b8511b",
   "metadata": {},
   "outputs": [
    {
     "name": "stdout",
     "output_type": "stream",
     "text": [
      "Equation 1:\n",
      "Eq(x + y, 1)\n",
      "Equation 2\n",
      "Eq(x - y, 1)\n",
      "values of 2 unknown variable are as follows:\n",
      "{x: 1, y: 0}\n"
     ]
    }
   ],
   "source": [
    "#25. Build a program that solves a linear equation  for x, considering different cases?\n",
    "from sympy import symbols,Eq,solve\n",
    "x,y=symbols(\"x,y\")\n",
    "eq1=Eq((x+y),1)\n",
    "print(\"Equation 1:\")\n",
    "print(eq1)\n",
    "eq2=Eq((x-y),1)\n",
    "print(\"Equation 2\")\n",
    "print(eq2)\n",
    "print(\"values of 2 unknown variable are as follows:\")\n",
    "print(solve((eq1,eq2),(x,y)))"
   ]
  },
  {
   "cell_type": "code",
   "execution_count": 56,
   "id": "1e354394-e9d4-4d94-a0ca-a0faee4182ec",
   "metadata": {},
   "outputs": [
    {
     "name": "stdout",
     "output_type": "stream",
     "text": [
      "enter a year: 1995\n"
     ]
    },
    {
     "name": "stdout",
     "output_type": "stream",
     "text": [
      "1995 is not a prime year.\n"
     ]
    }
   ],
   "source": [
    "#27. Develop a program that determines whether a given year is a prime number or not?\n",
    "def is_prime(year):\n",
    "    if year<=1:\n",
    "        return False\n",
    "    for i in range(2,year):\n",
    "        if year %1==0:\n",
    "            return False\n",
    "        return True\n",
    "def main():\n",
    "    try:\n",
    "        year=int(input(\"enter a year:\"))\n",
    "        if is_prime(year):\n",
    "            print(f\"{year} is a prime year.\")\n",
    "        else:\n",
    "            print(f\"{year} is not a prime year.\")\n",
    "    except ValueError:\n",
    "                  (\"print enter a valid year.\")\n",
    "if __name__==\"__main__\":\n",
    "     main() "
   ]
  },
  {
   "cell_type": "code",
   "execution_count": 58,
   "id": "603937d5-16b2-4696-961e-585ac6b685f7",
   "metadata": {},
   "outputs": [
    {
     "name": "stdout",
     "output_type": "stream",
     "text": [
      "Enter the first number:  17\n",
      "Enter the second number:  11\n",
      "Enter the third number:  7\n"
     ]
    },
    {
     "name": "stdout",
     "output_type": "stream",
     "text": [
      "Numbers in ascending order: (7.0, 11.0, 17.0)\n"
     ]
    }
   ],
   "source": [
    "#28. Create a program that sorts three numbers in ascending order using conditional statements?\n",
    "def sort_numbers(a, b, c):\n",
    "    if a <= b <= c:\n",
    "        return a, b, c\n",
    "    elif a <= c <= b:\n",
    "        return a, c, b\n",
    "    elif b <= a <= c:\n",
    "        return b, a, c\n",
    "    elif b <= c <= a:\n",
    "        return b, c, a\n",
    "    elif c <= a <= b:\n",
    "        return c, a, b\n",
    "    else:\n",
    "        return c, b, a\n",
    "\n",
    "\n",
    "num1 = float(input(\"Enter the first number: \"))\n",
    "num2 = float(input(\"Enter the second number: \"))\n",
    "num3 = float(input(\"Enter the third number: \"))\n",
    "sorted_nums = sort_numbers(num1, num2, num3)\n",
    "\n",
    "print(\"Numbers in ascending order:\", sorted_nums)\n"
   ]
  },
  {
   "cell_type": "code",
   "execution_count": 59,
   "id": "e587f55d-13dc-4b74-96d4-a7856ba670a1",
   "metadata": {},
   "outputs": [
    {
     "name": "stdout",
     "output_type": "stream",
     "text": [
      "Roots are real and same\n",
      "-2.0\n"
     ]
    }
   ],
   "source": [
    "#29. Build a program that determines the roots of a quartic equation using numerical methods?\n",
    "import math\n",
    "def findRoots(a, b, c):\n",
    "    if a == 0:\n",
    "        print(\"Invalid\")\n",
    "        return -1    \n",
    "    d = b * b - 4 * a * c\n",
    "    sqrt_val = math.sqrt(abs(d))\n",
    " \n",
    "    if d > 0:\n",
    "        print(\"Roots are real and different \")\n",
    "        print((-b + sqrt_val)/(2 * a))\n",
    "        print((-b - sqrt_val)/(2 * a))\n",
    "    elif d == 0:\n",
    "        print(\"Roots are real and same\")\n",
    "        print(-b / (2*a))\n",
    "    else:\n",
    "        print(\"Roots are complex\")\n",
    "        print(- b / (2*a), \" + i\", sqrt_val)\n",
    "        print(- b / (2*a), \" - i\", sqrt_val)\n",
    "a = 1\n",
    "b = 4\n",
    "c = 4\n",
    "findRoots(a, b, c)"
   ]
  },
  {
   "cell_type": "code",
   "execution_count": 60,
   "id": "b6ff5291-a94f-4b55-8dc4-840f127b89f5",
   "metadata": {},
   "outputs": [
    {
     "name": "stdout",
     "output_type": "stream",
     "text": [
      "enter the height: 81\n",
      "enter the weight: 1.7368\n"
     ]
    },
    {
     "name": "stdout",
     "output_type": "stream",
     "text": [
      "the BMI is 0.0002647157445511355 so underweight\n"
     ]
    }
   ],
   "source": [
    "#30. Write a program that calculates the BMI (Body Mass Index) and provides health recommendations based \n",
    "#on the user's input?\n",
    "def BMI(height,weight):\n",
    "    bmi=weight/(height**2)\n",
    "    return bmi\n",
    "height=float(input(\"enter the height:\"))\n",
    "weight=float(input(\"enter the weight:\"))\n",
    "bmi=BMI(height,weight)\n",
    "print(\"the BMI is\",format(bmi),\"so\",end=\" \")\n",
    "if (bmi<18.5):\n",
    "    print(\"underweight\")\n",
    "elif(bmi>=18.5 and bmi<24.9):\n",
    "    print(\"healthy\")\n",
    "elif(bmi>=24.9 and bmi<30):\n",
    "    print(\"overweight\")\n",
    "elif(bmi>=30):\n",
    "    print(\"suffering from odesity\")"
   ]
  },
  {
   "cell_type": "code",
   "execution_count": 61,
   "id": "4598df3b-1bcf-4c77-aa3a-c8f17f5f0683",
   "metadata": {},
   "outputs": [
    {
     "name": "stdout",
     "output_type": "stream",
     "text": [
      "valid password\n"
     ]
    }
   ],
   "source": [
    "#31. Create a program that validates a password based on complexity rules (length, characters, etc.)?\n",
    "l,u,p,d=0,0,0,0\n",
    "s=\"R@njith$1995\"\n",
    "capitalalphabets=\"ABCDEFGHIJKLMNOPQRSTUVWXYZ\"\n",
    "smallalphabets=\"abcdefghijklmnopqrstuvwxyz\"\n",
    "specialchar=\"$@_\"\n",
    "digits=\"0123456789\"\n",
    "if(len(s)>=8):\n",
    "    for i in s:\n",
    "        if(i in smallalphabets):\n",
    "            l+=1\n",
    "        if(i in capitalalphabets):\n",
    "            u+=1\n",
    "        if(i in digits):\n",
    "            d+=1\n",
    "        if(i in specialchar):\n",
    "            p+=1\n",
    "if(l>=1 and u>=1 and p>=1 and d>=1 and l+p+u+d==len(s)):\n",
    "    print(\"valid password\")\n",
    "else:\n",
    "    print(\"invalid password\")"
   ]
  },
  {
   "cell_type": "code",
   "execution_count": 62,
   "id": "42346ff4-e93c-4a90-8203-77e7e3d95503",
   "metadata": {},
   "outputs": [
    {
     "name": "stdout",
     "output_type": "stream",
     "text": [
      "printing elements of first matrix\n",
      "2 3 \n",
      "3 4 \n",
      "printing elements of second matrix\n",
      "4 5 \n",
      "6 7 \n",
      "addition of two matrix\n",
      "6 8 \n",
      "9 11 \n"
     ]
    }
   ],
   "source": [
    "#32. Develop a program that performs matrix addition and subtraction based on user input?\n",
    "#addition of matrix\n",
    "matrix1=[[2,3],[3,4]]\n",
    "matrix2=[[4,5],[6,7]]\n",
    "print(\"printing elements of first matrix\")\n",
    "for row in matrix1:\n",
    "    for element in row:\n",
    "        print(element,end=\" \")\n",
    "    print()\n",
    "print(\"printing elements of second matrix\")\n",
    "for row in matrix2:\n",
    "    for element in row:\n",
    "        print(element,end=\" \")\n",
    "    print()\n",
    "result=[[0,0],[0,0]]\n",
    "for i in range(len(matrix1)):\n",
    "    for  j in range(len(matrix1[0])):\n",
    "        result[i][j]=matrix1[i][j]+matrix2[i][j]\n",
    "print(\"addition of two matrix\")\n",
    "for row in result:\n",
    "    for element in row:\n",
    "        print(element, end=\" \")\n",
    "    print() "
   ]
  },
  {
   "cell_type": "code",
   "execution_count": 63,
   "id": "71edd0d9-7adf-450f-af7b-b6d2a27f3fec",
   "metadata": {},
   "outputs": [
    {
     "name": "stdout",
     "output_type": "stream",
     "text": [
      "printing elements of first matrix\n",
      "2 3 \n",
      "3 4 \n",
      "printing elements of second matrix\n",
      "4 5 \n",
      "6 7 \n",
      "subtraction of two matrix\n",
      "-2 -2 \n",
      "-3 -3 \n"
     ]
    }
   ],
   "source": [
    "#subtraction of matrix\n",
    "matrix1=[[2,3],[3,4]]\n",
    "matrix2=[[4,5],[6,7]]\n",
    "print(\"printing elements of first matrix\")\n",
    "for row in matrix1:\n",
    "    for element in row:\n",
    "        print(element,end=\" \")\n",
    "    print()\n",
    "print(\"printing elements of second matrix\")\n",
    "for row in matrix2:\n",
    "    for element in row:\n",
    "        print(element,end=\" \")\n",
    "    print()\n",
    "result=[[0,0],[0,0]]\n",
    "for i in range(len(matrix1)):\n",
    "    for  j in range(len(matrix1[0])):\n",
    "        result[i][j]=matrix1[i][j]-matrix2[i][j]\n",
    "print(\"subtraction of two matrix\")\n",
    "for row in result:\n",
    "    for element in row:\n",
    "        print(element, end=\" \")\n",
    "    print() "
   ]
  },
  {
   "cell_type": "code",
   "execution_count": 64,
   "id": "973d4963-5960-4710-ad61-b76f39a8460b",
   "metadata": {},
   "outputs": [
    {
     "name": "stdout",
     "output_type": "stream",
     "text": [
      "gcd( 29 , 17 )= 1\n"
     ]
    }
   ],
   "source": [
    "#33. Write a program that calculates the greatest common divisor (GCD) of two numbers using the Euclidean \n",
    "#algorithm\n",
    "def gcdExtended(a,b):\n",
    "    if a==0:\n",
    "        return b,0,1\n",
    "    gcd,x1,y1=gcdExtended(b % a,a)\n",
    "    x=y1-(b//a)*x1\n",
    "    y=x1\n",
    "    return gcd,x,y\n",
    "a,b=29,17\n",
    "g,x,y=gcdExtended(a,b)\n",
    "print(\"gcd(\",a,\",\",b,\")=\",g)"
   ]
  },
  {
   "cell_type": "code",
   "execution_count": 65,
   "id": "9e475fbc-fb73-4ac4-88f0-80f4a9292752",
   "metadata": {},
   "outputs": [
    {
     "name": "stdout",
     "output_type": "stream",
     "text": [
      "[[80, 50], [122, 85], [278, 188]]\n"
     ]
    }
   ],
   "source": [
    "#34. Build a program that performs matrix multiplication using nested loops and conditional statements?\n",
    "A=[[1,2,3],[5,3,4],[7,8,9]]\n",
    "B=[[3,4],[13,11],[17,8]]\n",
    "p = len(A)\n",
    "q = len(A[0])\n",
    " \n",
    "t = len(B)\n",
    "r = len(B[0])\n",
    " \n",
    "if(q!=t):\n",
    "    print(\"Error! invalid Matrix \")\n",
    "    quit()\n",
    "C = []\n",
    "for row in range(p):\n",
    "    curr_row = []\n",
    "    for col in range(r):\n",
    "        curr_row.append(0)\n",
    "    C.append(curr_row)\n",
    "for i in range(p):\n",
    "    for j in range(r):\n",
    "        curr_val = 0\n",
    "        for k in range(q):\n",
    "            curr_val += A[i][k]*B[k][j]\n",
    "        C[i][j] = curr_val\n",
    " \n",
    "print(C)"
   ]
  },
  {
   "cell_type": "code",
   "execution_count": 66,
   "id": "ccddec23-b7b8-4396-817f-74eb7643b888",
   "metadata": {},
   "outputs": [],
   "source": [
    "#36. Write a program that generates Fibonacci numbers up to a specified term using iterative methods?\n",
    "def fibonacci(n):\n",
    "    a = 0\n",
    "    b = 1\n",
    "    if n < 0:\n",
    "        print(\"Incorrect input\")\n",
    "    elif n == 0:\n",
    "        return a\n",
    "    elif n == 1:\n",
    "        return b\n",
    "    else:\n",
    "        for i in range(2, n+1):\n",
    "            c = a + b\n",
    "            a = b\n",
    "            b = c\n",
    "        return b"
   ]
  },
  {
   "cell_type": "code",
   "execution_count": 67,
   "id": "26634835-35d8-4abe-bd80-7005fc8e75a4",
   "metadata": {},
   "outputs": [
    {
     "name": "stdout",
     "output_type": "stream",
     "text": [
      "34\n"
     ]
    }
   ],
   "source": [
    "print(fibonacci(9))"
   ]
  },
  {
   "cell_type": "code",
   "execution_count": 68,
   "id": "0e0b72ad-7980-4cd1-9454-ad3a70640a41",
   "metadata": {},
   "outputs": [],
   "source": [
    "#37. Develop a program that calculates the nth term of the Fibonacci sequence using memoization.?\n",
    "def gen_fib(n):\n",
    "    if n<=1:\n",
    "        return n\n",
    "    else:\n",
    "        return gen_fib(n-1)+gen_fib(n-2)"
   ]
  },
  {
   "cell_type": "code",
   "execution_count": 69,
   "id": "46356790-16f9-4f68-ae1d-654acf9559e1",
   "metadata": {},
   "outputs": [
    {
     "data": {
      "text/plain": [
       "34"
      ]
     },
     "execution_count": 69,
     "metadata": {},
     "output_type": "execute_result"
    }
   ],
   "source": [
    "gen_fib(9)"
   ]
  },
  {
   "cell_type": "code",
   "execution_count": 70,
   "id": "0635c402-233a-467b-95ba-a32a5085b336",
   "metadata": {},
   "outputs": [
    {
     "name": "stdout",
     "output_type": "stream",
     "text": [
      "      May 2023\n",
      "Mo Tu We Th Fr Sa Su\n",
      " 1  2  3  4  5  6  7\n",
      " 8  9 10 11 12 13 14\n",
      "15 16 17 18 19 20 21\n",
      "22 23 24 25 26 27 28\n",
      "29 30 31\n",
      "\n"
     ]
    }
   ],
   "source": [
    "#38. Create a program that generates a calendar for a given month and year using conditional statements?\n",
    "import calendar\n",
    "yy=2023\n",
    "mm=5\n",
    "print(calendar.month(yy,mm))"
   ]
  },
  {
   "cell_type": "code",
   "execution_count": 71,
   "id": "6aabe5e4-96fb-409a-b016-f6345e337b95",
   "metadata": {},
   "outputs": [
    {
     "name": "stdout",
     "output_type": "stream",
     "text": [
      "Composite\n"
     ]
    }
   ],
   "source": [
    "#40. Write a program that generates the prime factors of a given number using trial division?\n",
    "def TrialDivision(N):\n",
    "    i = 2\n",
    "    k = int(N ** 0.5)\n",
    "    while(i<= k):\n",
    "        if(N % i == 0):\n",
    "            return 0\n",
    "        i += 1\n",
    "    return 1\n",
    "if __name__ == \"__main__\":\n",
    "    N = 49\n",
    "    p = TrialDivision(N)\n",
    "    if(p):\n",
    "        print(\"Prime\")\n",
    "    else:\n",
    "        print(\"Composite\")"
   ]
  },
  {
   "cell_type": "code",
   "execution_count": null,
   "id": "466a24d5-d995-42f8-87a0-f322319f6435",
   "metadata": {},
   "outputs": [],
   "source": []
  }
 ],
 "metadata": {
  "kernelspec": {
   "display_name": "Python 3 (ipykernel)",
   "language": "python",
   "name": "python3"
  },
  "language_info": {
   "codemirror_mode": {
    "name": "ipython",
    "version": 3
   },
   "file_extension": ".py",
   "mimetype": "text/x-python",
   "name": "python",
   "nbconvert_exporter": "python",
   "pygments_lexer": "ipython3",
   "version": "3.10.8"
  }
 },
 "nbformat": 4,
 "nbformat_minor": 5
}
